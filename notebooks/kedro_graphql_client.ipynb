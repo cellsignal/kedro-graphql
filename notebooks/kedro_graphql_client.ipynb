{
 "cells": [
  {
   "cell_type": "code",
   "execution_count": 3,
   "id": "e8106dcc-b8a7-43b8-b6b5-a0efe6f79c08",
   "metadata": {},
   "outputs": [
    {
     "data": {
      "text/html": [
       "<pre style=\"white-space:pre;overflow-x:auto;line-height:normal;font-family:Menlo,'DejaVu Sans Mono',consolas,'Courier New',monospace\"><span style=\"color: #7fbfbf; text-decoration-color: #7fbfbf\">[10/15/24 09:18:21] </span><span style=\"color: #000080; text-decoration-color: #000080\">INFO    </span> Registered line magic <span style=\"color: #008000; text-decoration-color: #008000\">'%reload_kedro'</span>                                   <a href=\"file:///home/seanlandry/dev/kgql-client/venv/lib64/python3.11/site-packages/kedro/ipython/__init__.py\" target=\"_blank\"><span style=\"color: #7f7f7f; text-decoration-color: #7f7f7f\">__init__.py</span></a><span style=\"color: #7f7f7f; text-decoration-color: #7f7f7f\">:</span><a href=\"file:///home/seanlandry/dev/kgql-client/venv/lib64/python3.11/site-packages/kedro/ipython/__init__.py#61\" target=\"_blank\"><span style=\"color: #7f7f7f; text-decoration-color: #7f7f7f\">61</span></a>\n",
       "</pre>\n"
      ],
      "text/plain": [
       "\u001b[2;36m[10/15/24 09:18:21]\u001b[0m\u001b[2;36m \u001b[0m\u001b[34mINFO    \u001b[0m Registered line magic \u001b[32m'%reload_kedro'\u001b[0m                                   \u001b]8;id=188617;file:///home/seanlandry/dev/kgql-client/venv/lib64/python3.11/site-packages/kedro/ipython/__init__.py\u001b\\\u001b[2m__init__.py\u001b[0m\u001b]8;;\u001b\\\u001b[2m:\u001b[0m\u001b]8;id=578623;file:///home/seanlandry/dev/kgql-client/venv/lib64/python3.11/site-packages/kedro/ipython/__init__.py#61\u001b\\\u001b[2m61\u001b[0m\u001b]8;;\u001b\\\n"
      ]
     },
     "metadata": {},
     "output_type": "display_data"
    },
    {
     "data": {
      "text/html": [
       "<pre style=\"white-space:pre;overflow-x:auto;line-height:normal;font-family:Menlo,'DejaVu Sans Mono',consolas,'Courier New',monospace\"><span style=\"color: #7fbfbf; text-decoration-color: #7fbfbf\">                    </span><span style=\"color: #000080; text-decoration-color: #000080\">INFO    </span> Registered line magic <span style=\"color: #008000; text-decoration-color: #008000\">'%load_node'</span>                                      <a href=\"file:///home/seanlandry/dev/kgql-client/venv/lib64/python3.11/site-packages/kedro/ipython/__init__.py\" target=\"_blank\"><span style=\"color: #7f7f7f; text-decoration-color: #7f7f7f\">__init__.py</span></a><span style=\"color: #7f7f7f; text-decoration-color: #7f7f7f\">:</span><a href=\"file:///home/seanlandry/dev/kgql-client/venv/lib64/python3.11/site-packages/kedro/ipython/__init__.py#63\" target=\"_blank\"><span style=\"color: #7f7f7f; text-decoration-color: #7f7f7f\">63</span></a>\n",
       "</pre>\n"
      ],
      "text/plain": [
       "\u001b[2;36m                   \u001b[0m\u001b[2;36m \u001b[0m\u001b[34mINFO    \u001b[0m Registered line magic \u001b[32m'%load_node'\u001b[0m                                      \u001b]8;id=479189;file:///home/seanlandry/dev/kgql-client/venv/lib64/python3.11/site-packages/kedro/ipython/__init__.py\u001b\\\u001b[2m__init__.py\u001b[0m\u001b]8;;\u001b\\\u001b[2m:\u001b[0m\u001b]8;id=170751;file:///home/seanlandry/dev/kgql-client/venv/lib64/python3.11/site-packages/kedro/ipython/__init__.py#63\u001b\\\u001b[2m63\u001b[0m\u001b]8;;\u001b\\\n"
      ]
     },
     "metadata": {},
     "output_type": "display_data"
    },
    {
     "data": {
      "text/html": [
       "<pre style=\"white-space:pre;overflow-x:auto;line-height:normal;font-family:Menlo,'DejaVu Sans Mono',consolas,'Courier New',monospace\"><span style=\"color: #7fbfbf; text-decoration-color: #7fbfbf\">                    </span><span style=\"color: #000080; text-decoration-color: #000080\">INFO    </span> Resolved project path as:                                              <a href=\"file:///home/seanlandry/dev/kgql-client/venv/lib64/python3.11/site-packages/kedro/ipython/__init__.py\" target=\"_blank\"><span style=\"color: #7f7f7f; text-decoration-color: #7f7f7f\">__init__.py</span></a><span style=\"color: #7f7f7f; text-decoration-color: #7f7f7f\">:</span><a href=\"file:///home/seanlandry/dev/kgql-client/venv/lib64/python3.11/site-packages/kedro/ipython/__init__.py#178\" target=\"_blank\"><span style=\"color: #7f7f7f; text-decoration-color: #7f7f7f\">178</span></a>\n",
       "<span style=\"color: #7fbfbf; text-decoration-color: #7fbfbf\">                    </span>         <span style=\"color: #800080; text-decoration-color: #800080\">/home/seanlandry/dev/kgql-client/</span><span style=\"color: #ff00ff; text-decoration-color: #ff00ff\">kedro-graphql.</span>                        <span style=\"color: #7f7f7f; text-decoration-color: #7f7f7f\">               </span>\n",
       "<span style=\"color: #7fbfbf; text-decoration-color: #7fbfbf\">                    </span>         To set a different path, run <span style=\"color: #008000; text-decoration-color: #008000\">'%reload_kedro &lt;project_root&gt;'</span>            <span style=\"color: #7f7f7f; text-decoration-color: #7f7f7f\">               </span>\n",
       "</pre>\n"
      ],
      "text/plain": [
       "\u001b[2;36m                   \u001b[0m\u001b[2;36m \u001b[0m\u001b[34mINFO    \u001b[0m Resolved project path as:                                              \u001b]8;id=319679;file:///home/seanlandry/dev/kgql-client/venv/lib64/python3.11/site-packages/kedro/ipython/__init__.py\u001b\\\u001b[2m__init__.py\u001b[0m\u001b]8;;\u001b\\\u001b[2m:\u001b[0m\u001b]8;id=990246;file:///home/seanlandry/dev/kgql-client/venv/lib64/python3.11/site-packages/kedro/ipython/__init__.py#178\u001b\\\u001b[2m178\u001b[0m\u001b]8;;\u001b\\\n",
       "\u001b[2;36m                    \u001b[0m         \u001b[35m/home/seanlandry/dev/kgql-client/\u001b[0m\u001b[95mkedro-graphql.\u001b[0m                        \u001b[2m               \u001b[0m\n",
       "\u001b[2;36m                    \u001b[0m         To set a different path, run \u001b[32m'%reload_kedro \u001b[0m\u001b[32m<\u001b[0m\u001b[32mproject_root\u001b[0m\u001b[32m>\u001b[0m\u001b[32m'\u001b[0m            \u001b[2m               \u001b[0m\n"
      ]
     },
     "metadata": {},
     "output_type": "display_data"
    },
    {
     "data": {
      "text/html": [
       "<pre style=\"white-space:pre;overflow-x:auto;line-height:normal;font-family:Menlo,'DejaVu Sans Mono',consolas,'Courier New',monospace\"><span style=\"color: #7fbfbf; text-decoration-color: #7fbfbf\">[10/15/24 09:18:22] </span><span style=\"color: #000080; text-decoration-color: #000080\">INFO    </span> Kedro is sending anonymous usage data with the sole purpose of improving <a href=\"file:///home/seanlandry/dev/kgql-client/venv/lib64/python3.11/site-packages/kedro_telemetry/plugin.py\" target=\"_blank\"><span style=\"color: #7f7f7f; text-decoration-color: #7f7f7f\">plugin.py</span></a><span style=\"color: #7f7f7f; text-decoration-color: #7f7f7f\">:</span><a href=\"file:///home/seanlandry/dev/kgql-client/venv/lib64/python3.11/site-packages/kedro_telemetry/plugin.py#233\" target=\"_blank\"><span style=\"color: #7f7f7f; text-decoration-color: #7f7f7f\">233</span></a>\n",
       "<span style=\"color: #7fbfbf; text-decoration-color: #7fbfbf\">                    </span>         the product. No personal data or IP addresses are stored on our side. If <span style=\"color: #7f7f7f; text-decoration-color: #7f7f7f\">             </span>\n",
       "<span style=\"color: #7fbfbf; text-decoration-color: #7fbfbf\">                    </span>         you want to opt out, set the `KEDRO_DISABLE_TELEMETRY` or `DO_NOT_TRACK` <span style=\"color: #7f7f7f; text-decoration-color: #7f7f7f\">             </span>\n",
       "<span style=\"color: #7fbfbf; text-decoration-color: #7fbfbf\">                    </span>         environment variables, or create a `.telemetry` file in the current      <span style=\"color: #7f7f7f; text-decoration-color: #7f7f7f\">             </span>\n",
       "<span style=\"color: #7fbfbf; text-decoration-color: #7fbfbf\">                    </span>         working directory with the contents `consent: false`. Read more at       <span style=\"color: #7f7f7f; text-decoration-color: #7f7f7f\">             </span>\n",
       "<span style=\"color: #7fbfbf; text-decoration-color: #7fbfbf\">                    </span>         <span style=\"color: #0000ff; text-decoration-color: #0000ff; text-decoration: underline\">https://docs.kedro.org/en/stable/configuration/telemetry.html</span>            <span style=\"color: #7f7f7f; text-decoration-color: #7f7f7f\">             </span>\n",
       "</pre>\n"
      ],
      "text/plain": [
       "\u001b[2;36m[10/15/24 09:18:22]\u001b[0m\u001b[2;36m \u001b[0m\u001b[34mINFO    \u001b[0m Kedro is sending anonymous usage data with the sole purpose of improving \u001b]8;id=523500;file:///home/seanlandry/dev/kgql-client/venv/lib64/python3.11/site-packages/kedro_telemetry/plugin.py\u001b\\\u001b[2mplugin.py\u001b[0m\u001b]8;;\u001b\\\u001b[2m:\u001b[0m\u001b]8;id=266764;file:///home/seanlandry/dev/kgql-client/venv/lib64/python3.11/site-packages/kedro_telemetry/plugin.py#233\u001b\\\u001b[2m233\u001b[0m\u001b]8;;\u001b\\\n",
       "\u001b[2;36m                    \u001b[0m         the product. No personal data or IP addresses are stored on our side. If \u001b[2m             \u001b[0m\n",
       "\u001b[2;36m                    \u001b[0m         you want to opt out, set the `KEDRO_DISABLE_TELEMETRY` or `DO_NOT_TRACK` \u001b[2m             \u001b[0m\n",
       "\u001b[2;36m                    \u001b[0m         environment variables, or create a `.telemetry` file in the current      \u001b[2m             \u001b[0m\n",
       "\u001b[2;36m                    \u001b[0m         working directory with the contents `consent: false`. Read more at       \u001b[2m             \u001b[0m\n",
       "\u001b[2;36m                    \u001b[0m         \u001b[4;94mhttps://docs.kedro.org/en/stable/configuration/telemetry.html\u001b[0m            \u001b[2m             \u001b[0m\n"
      ]
     },
     "metadata": {},
     "output_type": "display_data"
    },
    {
     "data": {
      "text/html": [
       "<pre style=\"white-space:pre;overflow-x:auto;line-height:normal;font-family:Menlo,'DejaVu Sans Mono',consolas,'Courier New',monospace\"><span style=\"color: #7fbfbf; text-decoration-color: #7fbfbf\">                    </span><span style=\"color: #000080; text-decoration-color: #000080\">INFO    </span> Kedro project kedro-graphql                                            <a href=\"file:///home/seanlandry/dev/kgql-client/venv/lib64/python3.11/site-packages/kedro/ipython/__init__.py\" target=\"_blank\"><span style=\"color: #7f7f7f; text-decoration-color: #7f7f7f\">__init__.py</span></a><span style=\"color: #7f7f7f; text-decoration-color: #7f7f7f\">:</span><a href=\"file:///home/seanlandry/dev/kgql-client/venv/lib64/python3.11/site-packages/kedro/ipython/__init__.py#144\" target=\"_blank\"><span style=\"color: #7f7f7f; text-decoration-color: #7f7f7f\">144</span></a>\n",
       "</pre>\n"
      ],
      "text/plain": [
       "\u001b[2;36m                   \u001b[0m\u001b[2;36m \u001b[0m\u001b[34mINFO    \u001b[0m Kedro project kedro-graphql                                            \u001b]8;id=533613;file:///home/seanlandry/dev/kgql-client/venv/lib64/python3.11/site-packages/kedro/ipython/__init__.py\u001b\\\u001b[2m__init__.py\u001b[0m\u001b]8;;\u001b\\\u001b[2m:\u001b[0m\u001b]8;id=797193;file:///home/seanlandry/dev/kgql-client/venv/lib64/python3.11/site-packages/kedro/ipython/__init__.py#144\u001b\\\u001b[2m144\u001b[0m\u001b]8;;\u001b\\\n"
      ]
     },
     "metadata": {},
     "output_type": "display_data"
    },
    {
     "data": {
      "text/html": [
       "<pre style=\"white-space:pre;overflow-x:auto;line-height:normal;font-family:Menlo,'DejaVu Sans Mono',consolas,'Courier New',monospace\"><span style=\"color: #7fbfbf; text-decoration-color: #7fbfbf\">                    </span><span style=\"color: #000080; text-decoration-color: #000080\">INFO    </span> Defined global variable <span style=\"color: #008000; text-decoration-color: #008000\">'context'</span>, <span style=\"color: #008000; text-decoration-color: #008000\">'session'</span>, <span style=\"color: #008000; text-decoration-color: #008000\">'catalog'</span> and            <a href=\"file:///home/seanlandry/dev/kgql-client/venv/lib64/python3.11/site-packages/kedro/ipython/__init__.py\" target=\"_blank\"><span style=\"color: #7f7f7f; text-decoration-color: #7f7f7f\">__init__.py</span></a><span style=\"color: #7f7f7f; text-decoration-color: #7f7f7f\">:</span><a href=\"file:///home/seanlandry/dev/kgql-client/venv/lib64/python3.11/site-packages/kedro/ipython/__init__.py#145\" target=\"_blank\"><span style=\"color: #7f7f7f; text-decoration-color: #7f7f7f\">145</span></a>\n",
       "<span style=\"color: #7fbfbf; text-decoration-color: #7fbfbf\">                    </span>         <span style=\"color: #008000; text-decoration-color: #008000\">'pipelines'</span>                                                            <span style=\"color: #7f7f7f; text-decoration-color: #7f7f7f\">               </span>\n",
       "</pre>\n"
      ],
      "text/plain": [
       "\u001b[2;36m                   \u001b[0m\u001b[2;36m \u001b[0m\u001b[34mINFO    \u001b[0m Defined global variable \u001b[32m'context'\u001b[0m, \u001b[32m'session'\u001b[0m, \u001b[32m'catalog'\u001b[0m and            \u001b]8;id=573397;file:///home/seanlandry/dev/kgql-client/venv/lib64/python3.11/site-packages/kedro/ipython/__init__.py\u001b\\\u001b[2m__init__.py\u001b[0m\u001b]8;;\u001b\\\u001b[2m:\u001b[0m\u001b]8;id=122972;file:///home/seanlandry/dev/kgql-client/venv/lib64/python3.11/site-packages/kedro/ipython/__init__.py#145\u001b\\\u001b[2m145\u001b[0m\u001b]8;;\u001b\\\n",
       "\u001b[2;36m                    \u001b[0m         \u001b[32m'pipelines'\u001b[0m                                                            \u001b[2m               \u001b[0m\n"
      ]
     },
     "metadata": {},
     "output_type": "display_data"
    }
   ],
   "source": [
    "%load_ext kedro.ipython"
   ]
  },
  {
   "cell_type": "markdown",
   "id": "5eadf98b-18db-4ef1-9f75-26da6194d210",
   "metadata": {},
   "source": [
    "# Define a KedroGraphqlClient"
   ]
  },
  {
   "cell_type": "code",
   "execution_count": 122,
   "id": "d286726d-1be3-4eb2-b5fa-5d44c141a6c1",
   "metadata": {},
   "outputs": [],
   "source": [
    "# src/kedro_graphql/client.py\n",
    "\n",
    "import asyncio\n",
    "\n",
    "from gql import Client, gql\n",
    "from gql.transport.aiohttp import AIOHTTPTransport\n",
    "from gql.transport.websockets import WebsocketsTransport\n",
    "from kedro_graphql.models import PipelineInput, Pipeline, PipelineEvent, PipelineLogMessage\n",
    "from fastapi.encoders import jsonable_encoder\n",
    "from strawberry.utils.str_converters import to_camel_case, to_snake_case\n",
    "\n",
    "class KedroGraphqlClient():\n",
    "\n",
    "    def __init__(self, url = None, ws = None ):\n",
    "        \"\"\"\n",
    "        Kwargs:\n",
    "            url (str): Url to api [default: http://localhost:5000/graphql]\n",
    "        \n",
    "        \"\"\"\n",
    "        self.url = url or \"http://localhost:5000/graphql\"\n",
    "        self.ws = ws or \"ws://localhost:5000/graphql\"\n",
    "        self.aio_transport = AIOHTTPTransport(url=self.url) \n",
    "        self.web_transport = WebsocketsTransport(url=self.ws) \n",
    "\n",
    "    async def createPipeline(self, pipeline: PipelineInput):\n",
    "    \n",
    "        # Using `async with` on the client will start a connection on the transport\n",
    "        # and provide a `session` variable to execute queries on this connection\n",
    "        async with Client(\n",
    "            transport=self.aio_transport,\n",
    "        ) as gql_session:\n",
    "    \n",
    "            # Execute mutation\n",
    "            query = gql(\n",
    "                \"\"\"\n",
    "                mutation createPipeline($pipeline: PipelineInput!) {\n",
    "                  pipeline(pipeline: $pipeline) {\n",
    "                    id\n",
    "                    name\n",
    "                    describe\n",
    "                    dataCatalog {\n",
    "                      name\n",
    "                      config\n",
    "                    }\n",
    "                    inputs {\n",
    "                      name\n",
    "                      config\n",
    "                    }\n",
    "                    nodes {\n",
    "                      name\n",
    "                      inputs\n",
    "                      outputs\n",
    "                      tags\n",
    "                    }\n",
    "                    outputs {\n",
    "                      name\n",
    "                      config\n",
    "                    }\n",
    "                    parameters {\n",
    "                      name\n",
    "                      value\n",
    "                    }\n",
    "                    status\n",
    "                    tags {\n",
    "                      key\n",
    "                      value\n",
    "                    }\n",
    "                    taskId\n",
    "                    taskName\n",
    "                    taskArgs\n",
    "                    taskKwargs\n",
    "                    taskRequest\n",
    "                    taskException\n",
    "                    taskTraceback\n",
    "                    taskEinfo\n",
    "                    taskResult\n",
    "                  }\n",
    "                }\n",
    "            \"\"\"\n",
    "            )\n",
    "\n",
    "            ## convert from object to json compatible dict\n",
    "            pipeline = jsonable_encoder(pipeline)\n",
    "\n",
    "            ## need to convert to camelCase\n",
    "            pipeline = {to_camel_case(k):v for k,v in pipeline.items()}\n",
    "                        \n",
    "            result = await gql_session.execute(query, variable_values={\"pipeline\":pipeline})\n",
    "            return Pipeline.from_dict(result[\"pipeline\"])\n",
    "\n",
    "    async def readPipeline(self, pipeline: str):\n",
    "    \n",
    "        # Using `async with` on the client will start a connection on the transport\n",
    "        # and provide a `session` variable to execute queries on this connection\n",
    "        async with Client(\n",
    "            transport=self.aio_transport,\n",
    "        ) as gql_session:\n",
    "    \n",
    "            # Execute query\n",
    "            query = gql(\n",
    "                \"\"\"\n",
    "                query readPipeline($pipeline: String!) {\n",
    "                  pipeline(id: $pipeline) {\n",
    "                    id\n",
    "                    name\n",
    "                    describe\n",
    "                    dataCatalog {\n",
    "                      name\n",
    "                      config\n",
    "                    }\n",
    "                    inputs {\n",
    "                      name\n",
    "                      config\n",
    "                    }\n",
    "                    nodes {\n",
    "                      name\n",
    "                      inputs\n",
    "                      outputs\n",
    "                      tags\n",
    "                    }\n",
    "                    outputs {\n",
    "                      name\n",
    "                      config\n",
    "                    }\n",
    "                    parameters {\n",
    "                      name\n",
    "                      value\n",
    "                    }\n",
    "                    status\n",
    "                    tags {\n",
    "                      key\n",
    "                      value\n",
    "                    }\n",
    "                    taskId\n",
    "                    taskName\n",
    "                    taskArgs\n",
    "                    taskKwargs\n",
    "                    taskRequest\n",
    "                    taskException\n",
    "                    taskTraceback\n",
    "                    taskEinfo\n",
    "                    taskResult\n",
    "                  }\n",
    "                }\n",
    "            \"\"\"\n",
    "            )\n",
    "                        \n",
    "            result = await gql_session.execute(query, variable_values={\"pipeline\":pipeline})\n",
    "            result = {to_snake_case(k):v for k,v in result[\"pipeline\"].items()}\n",
    "            return Pipeline.from_dict(result)\n",
    "\n",
    "    async def pipelineEvents(self, pipeline: str):\n",
    "    \n",
    "        # Using `async with` on the client will start a connection on the transport\n",
    "        # and provide a `session` variable to execute queries on this connection\n",
    "        async with Client(\n",
    "            transport=self.web_transport,\n",
    "        ) as gql_session:\n",
    "    \n",
    "            # Execute\n",
    "            query = gql(\n",
    "                \"\"\"\n",
    "                subscription pipelineEvents($pipeline: String!) {\n",
    "                  pipeline(id: $pipeline) {\n",
    "                    id\n",
    "                    taskId\n",
    "                    status\n",
    "                    result\n",
    "                    timestamp\n",
    "                    traceback\n",
    "                  }\n",
    "                }\n",
    "            \"\"\"\n",
    "            )\n",
    "\n",
    "            async for result in gql_session.subscribe(query, variable_values={\"pipeline\":pipeline}):\n",
    "                result = {to_snake_case(k):v for k,v in result[\"pipeline\"].items()}\n",
    "                yield PipelineEvent(**result)\n",
    "\n",
    "    async def pipelineLogs(self, pipeline: str):\n",
    "    \n",
    "        # Using `async with` on the client will start a connection on the transport\n",
    "        # and provide a `session` variable to execute queries on this connection\n",
    "        async with Client(\n",
    "            transport=self.web_transport,\n",
    "        ) as gql_session:\n",
    "    \n",
    "            # Execute\n",
    "            query = gql(\n",
    "                \"\"\"\n",
    "                subscription pipelineLogs($pipeline: String!) {\n",
    "                  pipeline(id: $pipeline) {\n",
    "                    id\n",
    "                    message\n",
    "                    messageId\n",
    "                    taskId\n",
    "                    time\n",
    "                  }\n",
    "                }\n",
    "            \"\"\"\n",
    "            )\n",
    "\n",
    "            async for result in gql_session.subscribe(query, variable_values={\"pipeline\":pipeline}):\n",
    "                result = {to_snake_case(k):v for k,v in result[\"pipeline\"].items()}\n",
    "                ## need to figure out which fields can be optional\n",
    "                print(result)\n",
    "                yield PipelineLogMessage(id = result[\"id\"], \n",
    "                                         message = result.get(\"message\", \"\"),\n",
    "                                         message_id = result.get(\"message_id\", \"\"),\n",
    "                                         task_id = result.get(\"task_id\", \"\"),\n",
    "                                         time = result.get(\"time\", \"\"))\n"
   ]
  },
  {
   "cell_type": "markdown",
   "id": "cee9fb4a-2583-400b-b010-ec916161ef32",
   "metadata": {},
   "source": [
    "# Usage"
   ]
  },
  {
   "cell_type": "code",
   "execution_count": 126,
   "id": "a963d291-94cd-4666-8a15-4aa25c1af49c",
   "metadata": {},
   "outputs": [],
   "source": [
    "client = KedroGraphqlClient()"
   ]
  },
  {
   "cell_type": "markdown",
   "id": "8629ee61-2cf1-41af-9fe5-756f55d67470",
   "metadata": {},
   "source": [
    "## Mutations"
   ]
  },
  {
   "cell_type": "markdown",
   "id": "afe5de46-4eb1-4523-a2dc-46bc9f9fa50b",
   "metadata": {},
   "source": [
    "### Create a pipeline"
   ]
  },
  {
   "cell_type": "code",
   "execution_count": 127,
   "id": "ffd4c42b-2a36-4b27-b56c-bead3b1401fb",
   "metadata": {},
   "outputs": [],
   "source": [
    "import json\n",
    "\n",
    "input_dict = {\"type\": \"text.TextDataset\", \"filepath\": \"/home/seanlandry/dev/kgql-client/kedro-graphql/data/01_raw/text_in.txt\"}\n",
    "output_dict = {\"type\": \"text.TextDataset\", \"filepath\": \"/home/seanlandry/dev/kgql-client/kedro-graphql/data/02_intermediate/text_out.txt\"}\n",
    "\n",
    "\n",
    "## PipelineInput object\n",
    "p = PipelineInput(**{\n",
    "                  \"name\": \"example00\",\n",
    "                  \"data_catalog\":[{\"name\": \"text_in\", \"config\": json.dumps(input_dict)},\n",
    "                                  {\"name\": \"text_out\", \"config\": json.dumps(output_dict)}],\n",
    "                  \"parameters\": [{\"name\":\"example\", \"value\":\"hello\"},\n",
    "                                 {\"name\": \"duration\", \"value\": \"0.1\", \"type\": \"FLOAT\"}],\n",
    "                  \"tags\": [{\"key\": \"author\", \"value\": \"opensean\"},{\"key\":\"package\", \"value\":\"kedro-graphql\"}]\n",
    "                 })\n",
    "\n",
    "\n",
    "\n",
    "result00 = await client.createPipeline(p)"
   ]
  },
  {
   "cell_type": "code",
   "execution_count": 128,
   "id": "2990ebea-7231-4b7f-9014-8b9ac7640a9c",
   "metadata": {},
   "outputs": [
    {
     "data": {
      "text/html": [
       "<pre style=\"white-space:pre;overflow-x:auto;line-height:normal;font-family:Menlo,'DejaVu Sans Mono',consolas,'Courier New',monospace\"></pre>\n"
      ],
      "text/plain": []
     },
     "metadata": {},
     "output_type": "display_data"
    },
    {
     "data": {
      "text/plain": [
       "\n",
       "\u001b[1;35mPipeline\u001b[0m\u001b[1m(\u001b[0m\n",
       "    \u001b[33mkedro_pipelines_index\u001b[0m=\u001b[3;35mNone\u001b[0m,\n",
       "    \u001b[33mid\u001b[0m=\u001b[32m'670f3fbdd9d965459c566b83'\u001b[0m,\n",
       "    \u001b[33minputs\u001b[0m=\u001b[3;35mNone\u001b[0m,\n",
       "    \u001b[33mname\u001b[0m=\u001b[32m'example00'\u001b[0m,\n",
       "    \u001b[33moutputs\u001b[0m=\u001b[3;35mNone\u001b[0m,\n",
       "    \u001b[33mdata_catalog\u001b[0m=\u001b[3;35mNone\u001b[0m,\n",
       "    \u001b[33mparameters\u001b[0m=\u001b[1m[\u001b[0m\n",
       "        \u001b[1;35mParameter\u001b[0m\u001b[1m(\u001b[0m\u001b[33mname\u001b[0m=\u001b[32m'example'\u001b[0m, \u001b[33mvalue\u001b[0m=\u001b[32m'hello'\u001b[0m, \u001b[33mtype\u001b[0m=\u001b[1m<\u001b[0m\u001b[1;95mParameterType.STRING:\u001b[0m\u001b[39m \u001b[0m\u001b[32m'string'\u001b[0m\u001b[39m>\u001b[0m\u001b[1;39m)\u001b[0m\u001b[39m,\u001b[0m\n",
       "\u001b[39m        \u001b[0m\u001b[1;35mParameter\u001b[0m\u001b[1;39m(\u001b[0m\u001b[33mname\u001b[0m\u001b[39m=\u001b[0m\u001b[32m'duration'\u001b[0m\u001b[39m, \u001b[0m\u001b[33mvalue\u001b[0m\u001b[39m=\u001b[0m\u001b[32m'0.1'\u001b[0m\u001b[39m, \u001b[0m\u001b[33mtype\u001b[0m\u001b[39m=<ParameterType.STRING: \u001b[0m\u001b[32m'string'\u001b[0m\u001b[1m>\u001b[0m\u001b[1m)\u001b[0m\n",
       "    \u001b[1m]\u001b[0m,\n",
       "    \u001b[33mstatus\u001b[0m=\u001b[32m'PENDING'\u001b[0m,\n",
       "    \u001b[33mtags\u001b[0m=\u001b[1m[\u001b[0m\u001b[1;35mTag\u001b[0m\u001b[1m(\u001b[0m\u001b[33mkey\u001b[0m=\u001b[32m'author'\u001b[0m, \u001b[33mvalue\u001b[0m=\u001b[32m'opensean'\u001b[0m\u001b[1m)\u001b[0m, \u001b[1;35mTag\u001b[0m\u001b[1m(\u001b[0m\u001b[33mkey\u001b[0m=\u001b[32m'package'\u001b[0m, \u001b[33mvalue\u001b[0m=\u001b[32m'kedro-graphql'\u001b[0m\u001b[1m)\u001b[0m\u001b[1m]\u001b[0m,\n",
       "    \u001b[33mtask_id\u001b[0m=\u001b[3;35mNone\u001b[0m,\n",
       "    \u001b[33mtask_name\u001b[0m=\u001b[3;35mNone\u001b[0m,\n",
       "    \u001b[33mtask_args\u001b[0m=\u001b[3;35mNone\u001b[0m,\n",
       "    \u001b[33mtask_kwargs\u001b[0m=\u001b[3;35mNone\u001b[0m,\n",
       "    \u001b[33mtask_request\u001b[0m=\u001b[3;35mNone\u001b[0m,\n",
       "    \u001b[33mtask_exception\u001b[0m=\u001b[3;35mNone\u001b[0m,\n",
       "    \u001b[33mtask_traceback\u001b[0m=\u001b[3;35mNone\u001b[0m,\n",
       "    \u001b[33mtask_einfo\u001b[0m=\u001b[3;35mNone\u001b[0m,\n",
       "    \u001b[33mtask_result\u001b[0m=\u001b[3;35mNone\u001b[0m\n",
       "\u001b[1m)\u001b[0m"
      ]
     },
     "execution_count": 128,
     "metadata": {},
     "output_type": "execute_result"
    }
   ],
   "source": [
    "result00"
   ]
  },
  {
   "cell_type": "markdown",
   "id": "5b7c738b-c164-4631-8fb0-d3dc7b3b6abb",
   "metadata": {},
   "source": [
    "## Queries"
   ]
  },
  {
   "cell_type": "markdown",
   "id": "a1a42c63-3016-4f75-acf8-123a3f024726",
   "metadata": {},
   "source": [
    "### Read a pipeline"
   ]
  },
  {
   "cell_type": "code",
   "execution_count": 129,
   "id": "f1e6598f-f84c-4123-bb4b-b2706888dfe2",
   "metadata": {},
   "outputs": [
    {
     "data": {
      "text/html": [
       "<pre style=\"white-space:pre;overflow-x:auto;line-height:normal;font-family:Menlo,'DejaVu Sans Mono',consolas,'Courier New',monospace\"></pre>\n"
      ],
      "text/plain": []
     },
     "metadata": {},
     "output_type": "display_data"
    },
    {
     "data": {
      "text/plain": [
       "\n",
       "\u001b[1;35mPipeline\u001b[0m\u001b[1m(\u001b[0m\n",
       "    \u001b[33mkedro_pipelines_index\u001b[0m=\u001b[3;35mNone\u001b[0m,\n",
       "    \u001b[33mid\u001b[0m=\u001b[32m'670f3fbdd9d965459c566b83'\u001b[0m,\n",
       "    \u001b[33minputs\u001b[0m=\u001b[3;35mNone\u001b[0m,\n",
       "    \u001b[33mname\u001b[0m=\u001b[32m'example00'\u001b[0m,\n",
       "    \u001b[33moutputs\u001b[0m=\u001b[3;35mNone\u001b[0m,\n",
       "    \u001b[33mdata_catalog\u001b[0m=\u001b[1m[\u001b[0m\n",
       "        \u001b[1;35mDataSet\u001b[0m\u001b[1m(\u001b[0m\n",
       "            \u001b[33mname\u001b[0m=\u001b[32m'text_in'\u001b[0m,\n",
       "            \u001b[33mconfig\u001b[0m=\u001b[32m'\u001b[0m\u001b[32m{\u001b[0m\u001b[32m\"type\": \"text.TextDataset\", \"filepath\": \"/home/seanlandry/dev/kgql-client/kedro-graphql/data/01_raw/text_in.txt\"\u001b[0m\u001b[32m}\u001b[0m\u001b[32m'\u001b[0m,\n",
       "            \u001b[33mtype\u001b[0m=\u001b[3;35mNone\u001b[0m,\n",
       "            \u001b[33mfilepath\u001b[0m=\u001b[3;35mNone\u001b[0m,\n",
       "            \u001b[33msave_args\u001b[0m=\u001b[3;35mNone\u001b[0m,\n",
       "            \u001b[33mload_args\u001b[0m=\u001b[3;35mNone\u001b[0m,\n",
       "            \u001b[33mcredentials\u001b[0m=\u001b[3;35mNone\u001b[0m\n",
       "        \u001b[1m)\u001b[0m,\n",
       "        \u001b[1;35mDataSet\u001b[0m\u001b[1m(\u001b[0m\n",
       "            \u001b[33mname\u001b[0m=\u001b[32m'text_out'\u001b[0m,\n",
       "            \u001b[33mconfig\u001b[0m=\u001b[32m'\u001b[0m\u001b[32m{\u001b[0m\u001b[32m\"type\": \"text.TextDataset\", \"filepath\": \"/home/seanlandry/dev/kgql-client/kedro-graphql/data/02_intermediate/text_out.txt\"\u001b[0m\u001b[32m}\u001b[0m\u001b[32m'\u001b[0m,\n",
       "            \u001b[33mtype\u001b[0m=\u001b[3;35mNone\u001b[0m,\n",
       "            \u001b[33mfilepath\u001b[0m=\u001b[3;35mNone\u001b[0m,\n",
       "            \u001b[33msave_args\u001b[0m=\u001b[3;35mNone\u001b[0m,\n",
       "            \u001b[33mload_args\u001b[0m=\u001b[3;35mNone\u001b[0m,\n",
       "            \u001b[33mcredentials\u001b[0m=\u001b[3;35mNone\u001b[0m\n",
       "        \u001b[1m)\u001b[0m\n",
       "    \u001b[1m]\u001b[0m,\n",
       "    \u001b[33mparameters\u001b[0m=\u001b[1m[\u001b[0m\n",
       "        \u001b[1;35mParameter\u001b[0m\u001b[1m(\u001b[0m\u001b[33mname\u001b[0m=\u001b[32m'example'\u001b[0m, \u001b[33mvalue\u001b[0m=\u001b[32m'hello'\u001b[0m, \u001b[33mtype\u001b[0m=\u001b[1m<\u001b[0m\u001b[1;95mParameterType.STRING:\u001b[0m\u001b[39m \u001b[0m\u001b[32m'string'\u001b[0m\u001b[39m>\u001b[0m\u001b[1;39m)\u001b[0m\u001b[39m,\u001b[0m\n",
       "\u001b[39m        \u001b[0m\u001b[1;35mParameter\u001b[0m\u001b[1;39m(\u001b[0m\u001b[33mname\u001b[0m\u001b[39m=\u001b[0m\u001b[32m'duration'\u001b[0m\u001b[39m, \u001b[0m\u001b[33mvalue\u001b[0m\u001b[39m=\u001b[0m\u001b[32m'0.1'\u001b[0m\u001b[39m, \u001b[0m\u001b[33mtype\u001b[0m\u001b[39m=<ParameterType.STRING: \u001b[0m\u001b[32m'string'\u001b[0m\u001b[39m>\u001b[0m\u001b[1;39m)\u001b[0m\n",
       "\u001b[39m    \u001b[0m\u001b[1;39m]\u001b[0m\u001b[39m,\u001b[0m\n",
       "\u001b[39m    \u001b[0m\u001b[33mstatus\u001b[0m\u001b[39m=\u001b[0m\u001b[32m'SUCCESS'\u001b[0m\u001b[39m,\u001b[0m\n",
       "\u001b[39m    \u001b[0m\u001b[33mtags\u001b[0m\u001b[39m=\u001b[0m\u001b[1;39m[\u001b[0m\u001b[1;35mTag\u001b[0m\u001b[1;39m(\u001b[0m\u001b[33mkey\u001b[0m\u001b[39m=\u001b[0m\u001b[32m'author'\u001b[0m\u001b[39m, \u001b[0m\u001b[33mvalue\u001b[0m\u001b[39m=\u001b[0m\u001b[32m'opensean'\u001b[0m\u001b[1;39m)\u001b[0m\u001b[39m, \u001b[0m\u001b[1;35mTag\u001b[0m\u001b[1;39m(\u001b[0m\u001b[33mkey\u001b[0m\u001b[39m=\u001b[0m\u001b[32m'package'\u001b[0m\u001b[39m, \u001b[0m\u001b[33mvalue\u001b[0m\u001b[39m=\u001b[0m\u001b[32m'kedro-graphql'\u001b[0m\u001b[1;39m)\u001b[0m\u001b[1;39m]\u001b[0m\u001b[39m,\u001b[0m\n",
       "\u001b[39m    \u001b[0m\u001b[33mtask_id\u001b[0m\u001b[39m=\u001b[0m\u001b[32m'fb41f92c-a4a5-4aae-bd0b-27f4beeeca6a'\u001b[0m\u001b[39m,\u001b[0m\n",
       "\u001b[39m    \u001b[0m\u001b[33mtask_name\u001b[0m\u001b[39m=\u001b[0m\u001b[32m'<@task: kedro_graphql.tasks.run_pipeline of __main__ at 0x7f4686c3e810\u001b[0m\u001b[32m>\u001b[0m\u001b[32m'\u001b[0m,\n",
       "    \u001b[33mtask_args\u001b[0m=\u001b[3;35mNone\u001b[0m,\n",
       "    \u001b[33mtask_kwargs\u001b[0m=\u001b[32m\"\u001b[0m\u001b[32m{\u001b[0m\u001b[32m'name': 'example00', 'inputs': \u001b[0m\u001b[32m{\u001b[0m\u001b[32m}\u001b[0m\u001b[32m, 'outputs': \u001b[0m\u001b[32m{\u001b[0m\u001b[32m}\u001b[0m\u001b[32m, 'data_catalog': \u001b[0m\u001b[32m{\u001b[0m\u001b[32m'text_in': \u001b[0m\u001b[32m{\u001b[0m\u001b[32m'type': 'text.TextDataset', 'filepath': '/home/seanlandry/dev/kgql-client/kedro-graphql/data/01_raw/text_in.txt'\u001b[0m\u001b[32m}\u001b[0m\u001b[32m, 'text_out': \u001b[0m\u001b[32m{\u001b[0m\u001b[32m'type': 'text.TextDataset', 'filepath': '/home/seanlandry/dev/kgql-client/kedro-graphql/data/02_intermediate/text_out.txt'\u001b[0m\u001b[32m}\u001b[0m\u001b[32m}\u001b[0m\u001b[32m, 'parameters': \u001b[0m\u001b[32m{\u001b[0m\u001b[32m'example': 'hello', 'duration': 0.1\u001b[0m\u001b[32m}\u001b[0m\u001b[32m, 'runner': 'kedro.runner.SequentialRunner'\u001b[0m\u001b[32m}\u001b[0m\u001b[32m\"\u001b[0m,\n",
       "    \u001b[33mtask_request\u001b[0m=\u001b[3;35mNone\u001b[0m,\n",
       "    \u001b[33mtask_exception\u001b[0m=\u001b[3;35mNone\u001b[0m,\n",
       "    \u001b[33mtask_traceback\u001b[0m=\u001b[3;35mNone\u001b[0m,\n",
       "    \u001b[33mtask_einfo\u001b[0m=\u001b[32m'None'\u001b[0m,\n",
       "    \u001b[33mtask_result\u001b[0m=\u001b[3;35mNone\u001b[0m\n",
       "\u001b[1m)\u001b[0m"
      ]
     },
     "execution_count": 129,
     "metadata": {},
     "output_type": "execute_result"
    }
   ],
   "source": [
    "result01 = await client.readPipeline(result00.id)\n",
    "result01"
   ]
  },
  {
   "cell_type": "markdown",
   "id": "62e5df43-d301-4569-aa97-cc03d30c25ef",
   "metadata": {},
   "source": [
    "## Subscriptions"
   ]
  },
  {
   "cell_type": "markdown",
   "id": "6f47fc65-d581-4f51-bd9b-92c37c8343f6",
   "metadata": {},
   "source": [
    "### Subscribe to Pipeline Events"
   ]
  },
  {
   "cell_type": "code",
   "execution_count": 130,
   "id": "b2615037-2cc9-484c-b29e-1430ac147282",
   "metadata": {},
   "outputs": [
    {
     "name": "stdout",
     "output_type": "stream",
     "text": [
      "PipelineEvent(id='670f3fbdd9d965459c566b83', task_id='fb41f92c-a4a5-4aae-bd0b-27f4beeeca6a', status='SUCCESS', result='success', timestamp='1729052612.7779524', traceback=None)\n"
     ]
    }
   ],
   "source": [
    "async for e in client.pipelineEvents(result00.id):\n",
    "    print(e)"
   ]
  },
  {
   "cell_type": "markdown",
   "id": "58d2aa84-d2ba-4d95-b916-daa6b6e53639",
   "metadata": {},
   "source": [
    "### Subscribe to Pipeline Logs"
   ]
  },
  {
   "cell_type": "code",
   "execution_count": 131,
   "id": "e8406e00-8e6c-4905-a04b-ee6d5c6ab7fe",
   "metadata": {},
   "outputs": [
    {
     "name": "stdout",
     "output_type": "stream",
     "text": [
      "{'id': '670f3fbdd9d965459c566b83', 'task_id': 'fb41f92c-a4a5-4aae-bd0b-27f4beeeca6a'}\n",
      "PipelineLogMessage(id='670f3fbdd9d965459c566b83', message='', message_id='', task_id='fb41f92c-a4a5-4aae-bd0b-27f4beeeca6a', time='')\n"
     ]
    }
   ],
   "source": [
    "async for e in client.pipelineLogs(result00.id):\n",
    "    print(e)"
   ]
  },
  {
   "cell_type": "markdown",
   "id": "faebd11d-7593-4506-8425-de05a4ad6875",
   "metadata": {},
   "source": [
    "## Full Example"
   ]
  },
  {
   "cell_type": "code",
   "execution_count": 132,
   "id": "79ef923c-f3de-4e0a-89b4-996763369bfe",
   "metadata": {},
   "outputs": [
    {
     "name": "stdout",
     "output_type": "stream",
     "text": [
      "created pipeline with id: 670f3fc8d9d965459c566b84\n",
      "streaming logs\n",
      "{'id': '670f3fc8d9d965459c566b84', 'task_id': 'ce303532-aaa7-4ad5-9259-71c47e85d946'}\n",
      "PipelineLogMessage(id='670f3fc8d9d965459c566b84', message='', message_id='', task_id='ce303532-aaa7-4ad5-9259-71c47e85d946', time='')\n",
      "{'id': '670f3fc8d9d965459c566b84', 'task_id': 'ce303532-aaa7-4ad5-9259-71c47e85d946'}\n",
      "PipelineLogMessage(id='670f3fc8d9d965459c566b84', message='', message_id='', task_id='ce303532-aaa7-4ad5-9259-71c47e85d946', time='')\n",
      "{'id': '670f3fc8d9d965459c566b84', 'task_id': 'ce303532-aaa7-4ad5-9259-71c47e85d946'}\n",
      "PipelineLogMessage(id='670f3fc8d9d965459c566b84', message='', message_id='', task_id='ce303532-aaa7-4ad5-9259-71c47e85d946', time='')\n",
      "pipeline complete\n"
     ]
    },
    {
     "data": {
      "text/html": [
       "<pre style=\"white-space:pre;overflow-x:auto;line-height:normal;font-family:Menlo,'DejaVu Sans Mono',consolas,'Courier New',monospace\"></pre>\n"
      ],
      "text/plain": []
     },
     "metadata": {},
     "output_type": "display_data"
    },
    {
     "data": {
      "text/plain": [
       "\n",
       "\u001b[1;35mPipeline\u001b[0m\u001b[1m(\u001b[0m\n",
       "    \u001b[33mkedro_pipelines_index\u001b[0m=\u001b[3;35mNone\u001b[0m,\n",
       "    \u001b[33mid\u001b[0m=\u001b[32m'670f3fc8d9d965459c566b84'\u001b[0m,\n",
       "    \u001b[33minputs\u001b[0m=\u001b[3;35mNone\u001b[0m,\n",
       "    \u001b[33mname\u001b[0m=\u001b[32m'example00'\u001b[0m,\n",
       "    \u001b[33moutputs\u001b[0m=\u001b[3;35mNone\u001b[0m,\n",
       "    \u001b[33mdata_catalog\u001b[0m=\u001b[1m[\u001b[0m\n",
       "        \u001b[1;35mDataSet\u001b[0m\u001b[1m(\u001b[0m\n",
       "            \u001b[33mname\u001b[0m=\u001b[32m'text_in'\u001b[0m,\n",
       "            \u001b[33mconfig\u001b[0m=\u001b[32m'\u001b[0m\u001b[32m{\u001b[0m\u001b[32m\"type\": \"text.TextDataset\", \"filepath\": \"/home/seanlandry/dev/kgql-client/kedro-graphql/data/01_raw/text_in.txt\"\u001b[0m\u001b[32m}\u001b[0m\u001b[32m'\u001b[0m,\n",
       "            \u001b[33mtype\u001b[0m=\u001b[3;35mNone\u001b[0m,\n",
       "            \u001b[33mfilepath\u001b[0m=\u001b[3;35mNone\u001b[0m,\n",
       "            \u001b[33msave_args\u001b[0m=\u001b[3;35mNone\u001b[0m,\n",
       "            \u001b[33mload_args\u001b[0m=\u001b[3;35mNone\u001b[0m,\n",
       "            \u001b[33mcredentials\u001b[0m=\u001b[3;35mNone\u001b[0m\n",
       "        \u001b[1m)\u001b[0m,\n",
       "        \u001b[1;35mDataSet\u001b[0m\u001b[1m(\u001b[0m\n",
       "            \u001b[33mname\u001b[0m=\u001b[32m'text_out'\u001b[0m,\n",
       "            \u001b[33mconfig\u001b[0m=\u001b[32m'\u001b[0m\u001b[32m{\u001b[0m\u001b[32m\"type\": \"text.TextDataset\", \"filepath\": \"/home/seanlandry/dev/kgql-client/kedro-graphql/data/02_intermediate/text_out.txt\"\u001b[0m\u001b[32m}\u001b[0m\u001b[32m'\u001b[0m,\n",
       "            \u001b[33mtype\u001b[0m=\u001b[3;35mNone\u001b[0m,\n",
       "            \u001b[33mfilepath\u001b[0m=\u001b[3;35mNone\u001b[0m,\n",
       "            \u001b[33msave_args\u001b[0m=\u001b[3;35mNone\u001b[0m,\n",
       "            \u001b[33mload_args\u001b[0m=\u001b[3;35mNone\u001b[0m,\n",
       "            \u001b[33mcredentials\u001b[0m=\u001b[3;35mNone\u001b[0m\n",
       "        \u001b[1m)\u001b[0m\n",
       "    \u001b[1m]\u001b[0m,\n",
       "    \u001b[33mparameters\u001b[0m=\u001b[1m[\u001b[0m\n",
       "        \u001b[1;35mParameter\u001b[0m\u001b[1m(\u001b[0m\u001b[33mname\u001b[0m=\u001b[32m'example'\u001b[0m, \u001b[33mvalue\u001b[0m=\u001b[32m'hello'\u001b[0m, \u001b[33mtype\u001b[0m=\u001b[1m<\u001b[0m\u001b[1;95mParameterType.STRING:\u001b[0m\u001b[39m \u001b[0m\u001b[32m'string'\u001b[0m\u001b[39m>\u001b[0m\u001b[1;39m)\u001b[0m\u001b[39m,\u001b[0m\n",
       "\u001b[39m        \u001b[0m\u001b[1;35mParameter\u001b[0m\u001b[1;39m(\u001b[0m\u001b[33mname\u001b[0m\u001b[39m=\u001b[0m\u001b[32m'duration'\u001b[0m\u001b[39m, \u001b[0m\u001b[33mvalue\u001b[0m\u001b[39m=\u001b[0m\u001b[32m'1'\u001b[0m\u001b[39m, \u001b[0m\u001b[33mtype\u001b[0m\u001b[39m=<ParameterType.STRING: \u001b[0m\u001b[32m'string'\u001b[0m\u001b[39m>\u001b[0m\u001b[1;39m)\u001b[0m\n",
       "\u001b[39m    \u001b[0m\u001b[1;39m]\u001b[0m\u001b[39m,\u001b[0m\n",
       "\u001b[39m    \u001b[0m\u001b[33mstatus\u001b[0m\u001b[39m=\u001b[0m\u001b[32m'SUCCESS'\u001b[0m\u001b[39m,\u001b[0m\n",
       "\u001b[39m    \u001b[0m\u001b[33mtags\u001b[0m\u001b[39m=\u001b[0m\u001b[1;39m[\u001b[0m\u001b[1;35mTag\u001b[0m\u001b[1;39m(\u001b[0m\u001b[33mkey\u001b[0m\u001b[39m=\u001b[0m\u001b[32m'author'\u001b[0m\u001b[39m, \u001b[0m\u001b[33mvalue\u001b[0m\u001b[39m=\u001b[0m\u001b[32m'opensean'\u001b[0m\u001b[1;39m)\u001b[0m\u001b[39m, \u001b[0m\u001b[1;35mTag\u001b[0m\u001b[1;39m(\u001b[0m\u001b[33mkey\u001b[0m\u001b[39m=\u001b[0m\u001b[32m'package'\u001b[0m\u001b[39m, \u001b[0m\u001b[33mvalue\u001b[0m\u001b[39m=\u001b[0m\u001b[32m'kedro-graphql'\u001b[0m\u001b[1;39m)\u001b[0m\u001b[1;39m]\u001b[0m\u001b[39m,\u001b[0m\n",
       "\u001b[39m    \u001b[0m\u001b[33mtask_id\u001b[0m\u001b[39m=\u001b[0m\u001b[32m'ce303532-aaa7-4ad5-9259-71c47e85d946'\u001b[0m\u001b[39m,\u001b[0m\n",
       "\u001b[39m    \u001b[0m\u001b[33mtask_name\u001b[0m\u001b[39m=\u001b[0m\u001b[32m'<@task: kedro_graphql.tasks.run_pipeline of __main__ at 0x7f4686c3e810\u001b[0m\u001b[32m>\u001b[0m\u001b[32m'\u001b[0m,\n",
       "    \u001b[33mtask_args\u001b[0m=\u001b[3;35mNone\u001b[0m,\n",
       "    \u001b[33mtask_kwargs\u001b[0m=\u001b[32m\"\u001b[0m\u001b[32m{\u001b[0m\u001b[32m'name': 'example00', 'inputs': \u001b[0m\u001b[32m{\u001b[0m\u001b[32m}\u001b[0m\u001b[32m, 'outputs': \u001b[0m\u001b[32m{\u001b[0m\u001b[32m}\u001b[0m\u001b[32m, 'data_catalog': \u001b[0m\u001b[32m{\u001b[0m\u001b[32m'text_in': \u001b[0m\u001b[32m{\u001b[0m\u001b[32m'type': 'text.TextDataset', 'filepath': '/home/seanlandry/dev/kgql-client/kedro-graphql/data/01_raw/text_in.txt'\u001b[0m\u001b[32m}\u001b[0m\u001b[32m, 'text_out': \u001b[0m\u001b[32m{\u001b[0m\u001b[32m'type': 'text.TextDataset', 'filepath': '/home/seanlandry/dev/kgql-client/kedro-graphql/data/02_intermediate/text_out.txt'\u001b[0m\u001b[32m}\u001b[0m\u001b[32m}\u001b[0m\u001b[32m, 'parameters': \u001b[0m\u001b[32m{\u001b[0m\u001b[32m'example': 'hello', 'duration': 1.0\u001b[0m\u001b[32m}\u001b[0m\u001b[32m, 'runner': 'kedro.runner.SequentialRunner'\u001b[0m\u001b[32m}\u001b[0m\u001b[32m\"\u001b[0m,\n",
       "    \u001b[33mtask_request\u001b[0m=\u001b[3;35mNone\u001b[0m,\n",
       "    \u001b[33mtask_exception\u001b[0m=\u001b[3;35mNone\u001b[0m,\n",
       "    \u001b[33mtask_traceback\u001b[0m=\u001b[3;35mNone\u001b[0m,\n",
       "    \u001b[33mtask_einfo\u001b[0m=\u001b[32m'None'\u001b[0m,\n",
       "    \u001b[33mtask_result\u001b[0m=\u001b[3;35mNone\u001b[0m\n",
       "\u001b[1m)\u001b[0m"
      ]
     },
     "execution_count": 132,
     "metadata": {},
     "output_type": "execute_result"
    }
   ],
   "source": [
    "## create a pipeline\n",
    "import json\n",
    "\n",
    "input_dict = {\"type\": \"text.TextDataset\", \"filepath\": \"/home/seanlandry/dev/kgql-client/kedro-graphql/data/01_raw/text_in.txt\"}\n",
    "output_dict = {\"type\": \"text.TextDataset\", \"filepath\": \"/home/seanlandry/dev/kgql-client/kedro-graphql/data/02_intermediate/text_out.txt\"}\n",
    "\n",
    "\n",
    "## PipelineInput object\n",
    "p = PipelineInput(**{\n",
    "                  \"name\": \"example00\",\n",
    "                  \"data_catalog\":[{\"name\": \"text_in\", \"config\": json.dumps(input_dict)},\n",
    "                                  {\"name\": \"text_out\", \"config\": json.dumps(output_dict)}],\n",
    "                  \"parameters\": [{\"name\":\"example\", \"value\":\"hello\"},\n",
    "                                 {\"name\": \"duration\", \"value\": \"1\", \"type\": \"FLOAT\"}],\n",
    "                  \"tags\": [{\"key\": \"author\", \"value\": \"opensean\"},{\"key\":\"package\", \"value\":\"kedro-graphql\"}]\n",
    "                 })\n",
    "\n",
    "\n",
    "\n",
    "result00 = await client.createPipeline(p)\n",
    "print(\"created pipeline with id:\", result00.id) \n",
    "\n",
    "## subscribe to logs\n",
    "print(\"streaming logs\")\n",
    "async for e in client.pipelineLogs(result00.id):\n",
    "    print(e)\n",
    "    \n",
    "## read result\n",
    "print(\"pipeline complete\")\n",
    "result01 = await client.readPipeline(result00.id)\n",
    "result01"
   ]
  },
  {
   "cell_type": "code",
   "execution_count": null,
   "id": "f596951a-e28d-42ef-8636-d46ec4d082fd",
   "metadata": {},
   "outputs": [],
   "source": []
  }
 ],
 "metadata": {
  "kernelspec": {
   "display_name": "Python 3 (ipykernel)",
   "language": "python",
   "name": "python3"
  },
  "language_info": {
   "codemirror_mode": {
    "name": "ipython",
    "version": 3
   },
   "file_extension": ".py",
   "mimetype": "text/x-python",
   "name": "python",
   "nbconvert_exporter": "python",
   "pygments_lexer": "ipython3",
   "version": "3.11.10"
  }
 },
 "nbformat": 4,
 "nbformat_minor": 5
}
